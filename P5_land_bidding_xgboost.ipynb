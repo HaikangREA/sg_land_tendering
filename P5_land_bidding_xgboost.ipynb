{
 "cells": [
  {
   "cell_type": "code",
   "execution_count": 60,
   "metadata": {
    "collapsed": true
   },
   "outputs": [],
   "source": [
    "import pandas as pd\n",
    "import numpy as np\n",
    "from xgboost import XGBRegressor, DMatrix, cv, train, plot_tree\n",
    "from sklearn.model_selection import train_test_split\n",
    "from sklearn.metrics import mean_squared_error\n",
    "import matplotlib.pylab as plt\n",
    "import graphviz"
   ]
  },
  {
   "cell_type": "markdown",
   "source": [
    "### Read in data"
   ],
   "metadata": {
    "collapsed": false
   }
  },
  {
   "cell_type": "code",
   "execution_count": 48,
   "outputs": [],
   "source": [
    "gls = pd.read_csv(r'G:\\REA\\Working files\\land-bidding\\land_sales_full_data\\feature eng\\gls_1207_new_feat.csv')\n",
    "gls = gls.sort_values(by=['year_launch', 'month_launch', 'date_launch'])"
   ],
   "metadata": {
    "collapsed": false
   }
  },
  {
   "cell_type": "code",
   "execution_count": 49,
   "outputs": [
    {
     "data": {
      "text/plain": "Index(['sg_gls_id', 'land_parcel_id', 'project_dwid', 'address_dwid',\n       'date_launch', 'date_close', 'date_award', 'land_parcel',\n       'land_parcel_std', 'street', 'zone', 'region', 'join_by', 'error_check',\n       'site_area_sqm', 'devt_type', 'devt_class', 'lease_term', 'gpr',\n       'gfa_sqm', 'num_bidders', 'successful_tenderer_name',\n       'successful_tender_price', 'successful_price_psm_gfa', 'proj_name_raw',\n       'proj_name_res', 'proj_name_non_res', 'in_db', 'source',\n       'timediff_launch_to_close', 'timediff_close_to_award',\n       'timediff_launch_to_award', 'launch_month_index', 'year_launch',\n       'month_launch', 'day_launch', 'close_month_index', 'year_close',\n       'month_close', 'day_close', 'award_month_index', 'year_award',\n       'month_award', 'day_award', 'merge_key', 'tender_details',\n       'tenderer_name_1st', 'tender_price_1st', 'price_psm_gfa_1st',\n       'tenderer_name_2nd', 'tender_price_2nd', 'price_psm_gfa_2nd',\n       'price_premium_total', 'price_premium_psm', 'premium_pct',\n       'source_file', 'mean_tender_price', 'hi_tender_price',\n       'mean_price_psm_gfa', 'hi_price_psm_gfa', 'num_land_sales',\n       'tender_price_real', 'price_psm_real', 'quarter_launch', 'lg_site_area',\n       'lg_price_psm_real', 'predicted_price_psm', 'project_name_indb',\n       'dw_project_id', 'avg_dist_cbd', 'avg_dist_mrt', 'avg_num_bus',\n       'avg_num_good_sch', 'avg_num_prim_sch', 'avg_num_sec_sch',\n       'proj_num_of_units', 'proj_max_floor',\n       'num_of_nearby_completed_proj_200m', 'num_of_schools'],\n      dtype='object')"
     },
     "execution_count": 49,
     "metadata": {},
     "output_type": "execute_result"
    }
   ],
   "source": [
    "gls.columns"
   ],
   "metadata": {
    "collapsed": false
   }
  },
  {
   "cell_type": "code",
   "execution_count": 50,
   "outputs": [],
   "source": [
    "# select features\n",
    "categories = ['region', 'zone', 'devt_class', 'source']\n",
    "numeric = ['site_area_sqm', 'lease_term', 'gpr',\n",
    "           'num_bidders', 'timediff_launch_to_close',\n",
    "           'avg_dist_cbd', 'avg_dist_mrt', 'avg_num_bus',\n",
    "           'avg_num_good_sch', 'proj_num_of_units', 'proj_max_floor',\n",
    "           'num_of_nearby_completed_proj_200m', 'num_of_schools']\n",
    "cols = categories + numeric"
   ],
   "metadata": {
    "collapsed": false
   }
  },
  {
   "cell_type": "markdown",
   "source": [
    "### Pretreatment"
   ],
   "metadata": {
    "collapsed": false
   }
  },
  {
   "cell_type": "code",
   "execution_count": 51,
   "outputs": [],
   "source": [
    "x = pd.get_dummies(gls[cols])\n",
    "y = gls.price_psm_real"
   ],
   "metadata": {
    "collapsed": false
   }
  },
  {
   "cell_type": "code",
   "execution_count": 52,
   "outputs": [],
   "source": [
    "dmat = DMatrix(data=x, label=y)"
   ],
   "metadata": {
    "collapsed": false
   }
  },
  {
   "cell_type": "markdown",
   "source": [
    "### Split train-test"
   ],
   "metadata": {
    "collapsed": false
   }
  },
  {
   "cell_type": "code",
   "execution_count": 53,
   "outputs": [],
   "source": [
    "x_train, x_test, y_train, y_test = train_test_split(x, y, shuffle=False, test_size=0.2)"
   ],
   "metadata": {
    "collapsed": false
   }
  },
  {
   "cell_type": "markdown",
   "source": [
    "### Set model and regress"
   ],
   "metadata": {
    "collapsed": false
   }
  },
  {
   "cell_type": "code",
   "execution_count": 54,
   "outputs": [
    {
     "data": {
      "text/plain": "XGBRegressor(alpha=10, base_score=0.5, booster='gbtree', callbacks=None,\n             colsample_bylevel=1, colsample_bynode=1, colsample_bytree=0.3,\n             early_stopping_rounds=None, enable_categorical=False,\n             eval_metric=None, feature_types=None, gamma=0, gpu_id=-1,\n             grow_policy='depthwise', importance_type=None,\n             interaction_constraints='', learning_rate=0.1, max_bin=256,\n             max_cat_threshold=64, max_cat_to_onehot=4, max_delta_step=0,\n             max_depth=5, max_leaves=0, min_child_weight=1, missing=nan,\n             monotone_constraints='()', n_estimators=10, n_jobs=0,\n             num_parallel_tree=1, predictor='auto', ...)"
     },
     "execution_count": 54,
     "metadata": {},
     "output_type": "execute_result"
    }
   ],
   "source": [
    "xg_reg = XGBRegressor(objective ='reg:squarederror',\n",
    "                      colsample_bytree = 0.3,\n",
    "                      learning_rate = 0.1,\n",
    "                      max_depth = 5,\n",
    "                      alpha = 10,\n",
    "                      n_estimators = 10)\n",
    "xg_reg.fit(x_train, y_train)"
   ],
   "metadata": {
    "collapsed": false
   }
  },
  {
   "cell_type": "code",
   "execution_count": 55,
   "outputs": [
    {
     "name": "stdout",
     "output_type": "stream",
     "text": [
      "RMSE: 1381.430969\n"
     ]
    }
   ],
   "source": [
    "pred = xg_reg.predict(x_test)\n",
    "rmse = np.sqrt(mean_squared_error(y_test, pred))\n",
    "print(\"RMSE: %f\" %rmse)"
   ],
   "metadata": {
    "collapsed": false
   }
  },
  {
   "cell_type": "markdown",
   "source": [
    "### Cross validation"
   ],
   "metadata": {
    "collapsed": false
   }
  },
  {
   "cell_type": "code",
   "execution_count": 58,
   "outputs": [],
   "source": [
    "params = {\"objective\":\"reg:squarederror\",\n",
    "          'colsample_bytree': 0.3,\n",
    "          'learning_rate': 0.1,\n",
    "          'max_depth': 5,\n",
    "          'alpha': 10}\n",
    "\n",
    "validation_res = cv(dtrain=dmat, params=params, nfold=3, num_boost_round=100,\n",
    "                    early_stopping_rounds=10, metrics='rmse', as_pandas=True, seed=42)"
   ],
   "metadata": {
    "collapsed": false
   }
  },
  {
   "cell_type": "code",
   "execution_count": 59,
   "outputs": [
    {
     "data": {
      "text/plain": "72    1040.836671\nName: test-rmse-mean, dtype: float64"
     },
     "execution_count": 59,
     "metadata": {},
     "output_type": "execute_result"
    }
   ],
   "source": [
    "validation_res['test-rmse-mean'].tail(1)"
   ],
   "metadata": {
    "collapsed": false
   }
  },
  {
   "cell_type": "markdown",
   "source": [
    "### Visualize"
   ],
   "metadata": {
    "collapsed": false
   }
  },
  {
   "cell_type": "code",
   "execution_count": 61,
   "outputs": [
    {
     "ename": "ExecutableNotFound",
     "evalue": "failed to execute WindowsPath('dot'), make sure the Graphviz executables are on your systems' PATH",
     "output_type": "error",
     "traceback": [
      "\u001B[1;31m---------------------------------------------------------------------------\u001B[0m",
      "\u001B[1;31mFileNotFoundError\u001B[0m                         Traceback (most recent call last)",
      "File \u001B[1;32mE:\\Anaconda3\\lib\\site-packages\\graphviz\\backend\\execute.py:79\u001B[0m, in \u001B[0;36mrun_check\u001B[1;34m(cmd, input_lines, encoding, quiet, **kwargs)\u001B[0m\n\u001B[0;32m     78\u001B[0m         kwargs[\u001B[38;5;124m'\u001B[39m\u001B[38;5;124mstdout\u001B[39m\u001B[38;5;124m'\u001B[39m] \u001B[38;5;241m=\u001B[39m kwargs[\u001B[38;5;124m'\u001B[39m\u001B[38;5;124mstderr\u001B[39m\u001B[38;5;124m'\u001B[39m] \u001B[38;5;241m=\u001B[39m subprocess\u001B[38;5;241m.\u001B[39mPIPE\n\u001B[1;32m---> 79\u001B[0m     proc \u001B[38;5;241m=\u001B[39m \u001B[43m_run_input_lines\u001B[49m\u001B[43m(\u001B[49m\u001B[43mcmd\u001B[49m\u001B[43m,\u001B[49m\u001B[43m \u001B[49m\u001B[43minput_lines\u001B[49m\u001B[43m,\u001B[49m\u001B[43m \u001B[49m\u001B[43mkwargs\u001B[49m\u001B[38;5;241;43m=\u001B[39;49m\u001B[43mkwargs\u001B[49m\u001B[43m)\u001B[49m\n\u001B[0;32m     80\u001B[0m \u001B[38;5;28;01melse\u001B[39;00m:\n",
      "File \u001B[1;32mE:\\Anaconda3\\lib\\site-packages\\graphviz\\backend\\execute.py:99\u001B[0m, in \u001B[0;36m_run_input_lines\u001B[1;34m(cmd, input_lines, kwargs)\u001B[0m\n\u001B[0;32m     98\u001B[0m \u001B[38;5;28;01mdef\u001B[39;00m \u001B[38;5;21m_run_input_lines\u001B[39m(cmd, input_lines, \u001B[38;5;241m*\u001B[39m, kwargs):\n\u001B[1;32m---> 99\u001B[0m     popen \u001B[38;5;241m=\u001B[39m \u001B[43msubprocess\u001B[49m\u001B[38;5;241;43m.\u001B[39;49m\u001B[43mPopen\u001B[49m\u001B[43m(\u001B[49m\u001B[43mcmd\u001B[49m\u001B[43m,\u001B[49m\u001B[43m \u001B[49m\u001B[43mstdin\u001B[49m\u001B[38;5;241;43m=\u001B[39;49m\u001B[43msubprocess\u001B[49m\u001B[38;5;241;43m.\u001B[39;49m\u001B[43mPIPE\u001B[49m\u001B[43m,\u001B[49m\u001B[43m \u001B[49m\u001B[38;5;241;43m*\u001B[39;49m\u001B[38;5;241;43m*\u001B[39;49m\u001B[43mkwargs\u001B[49m\u001B[43m)\u001B[49m\n\u001B[0;32m    101\u001B[0m     stdin_write \u001B[38;5;241m=\u001B[39m popen\u001B[38;5;241m.\u001B[39mstdin\u001B[38;5;241m.\u001B[39mwrite\n",
      "File \u001B[1;32mE:\\Anaconda3\\lib\\subprocess.py:858\u001B[0m, in \u001B[0;36mPopen.__init__\u001B[1;34m(self, args, bufsize, executable, stdin, stdout, stderr, preexec_fn, close_fds, shell, cwd, env, universal_newlines, startupinfo, creationflags, restore_signals, start_new_session, pass_fds, encoding, errors, text)\u001B[0m\n\u001B[0;32m    855\u001B[0m             \u001B[38;5;28mself\u001B[39m\u001B[38;5;241m.\u001B[39mstderr \u001B[38;5;241m=\u001B[39m io\u001B[38;5;241m.\u001B[39mTextIOWrapper(\u001B[38;5;28mself\u001B[39m\u001B[38;5;241m.\u001B[39mstderr,\n\u001B[0;32m    856\u001B[0m                     encoding\u001B[38;5;241m=\u001B[39mencoding, errors\u001B[38;5;241m=\u001B[39merrors)\n\u001B[1;32m--> 858\u001B[0m     \u001B[38;5;28;43mself\u001B[39;49m\u001B[38;5;241;43m.\u001B[39;49m\u001B[43m_execute_child\u001B[49m\u001B[43m(\u001B[49m\u001B[43margs\u001B[49m\u001B[43m,\u001B[49m\u001B[43m \u001B[49m\u001B[43mexecutable\u001B[49m\u001B[43m,\u001B[49m\u001B[43m \u001B[49m\u001B[43mpreexec_fn\u001B[49m\u001B[43m,\u001B[49m\u001B[43m \u001B[49m\u001B[43mclose_fds\u001B[49m\u001B[43m,\u001B[49m\n\u001B[0;32m    859\u001B[0m \u001B[43m                        \u001B[49m\u001B[43mpass_fds\u001B[49m\u001B[43m,\u001B[49m\u001B[43m \u001B[49m\u001B[43mcwd\u001B[49m\u001B[43m,\u001B[49m\u001B[43m \u001B[49m\u001B[43menv\u001B[49m\u001B[43m,\u001B[49m\n\u001B[0;32m    860\u001B[0m \u001B[43m                        \u001B[49m\u001B[43mstartupinfo\u001B[49m\u001B[43m,\u001B[49m\u001B[43m \u001B[49m\u001B[43mcreationflags\u001B[49m\u001B[43m,\u001B[49m\u001B[43m \u001B[49m\u001B[43mshell\u001B[49m\u001B[43m,\u001B[49m\n\u001B[0;32m    861\u001B[0m \u001B[43m                        \u001B[49m\u001B[43mp2cread\u001B[49m\u001B[43m,\u001B[49m\u001B[43m \u001B[49m\u001B[43mp2cwrite\u001B[49m\u001B[43m,\u001B[49m\n\u001B[0;32m    862\u001B[0m \u001B[43m                        \u001B[49m\u001B[43mc2pread\u001B[49m\u001B[43m,\u001B[49m\u001B[43m \u001B[49m\u001B[43mc2pwrite\u001B[49m\u001B[43m,\u001B[49m\n\u001B[0;32m    863\u001B[0m \u001B[43m                        \u001B[49m\u001B[43merrread\u001B[49m\u001B[43m,\u001B[49m\u001B[43m \u001B[49m\u001B[43merrwrite\u001B[49m\u001B[43m,\u001B[49m\n\u001B[0;32m    864\u001B[0m \u001B[43m                        \u001B[49m\u001B[43mrestore_signals\u001B[49m\u001B[43m,\u001B[49m\u001B[43m \u001B[49m\u001B[43mstart_new_session\u001B[49m\u001B[43m)\u001B[49m\n\u001B[0;32m    865\u001B[0m \u001B[38;5;28;01mexcept\u001B[39;00m:\n\u001B[0;32m    866\u001B[0m     \u001B[38;5;66;03m# Cleanup if the child failed starting.\u001B[39;00m\n",
      "File \u001B[1;32mE:\\Anaconda3\\lib\\subprocess.py:1311\u001B[0m, in \u001B[0;36mPopen._execute_child\u001B[1;34m(self, args, executable, preexec_fn, close_fds, pass_fds, cwd, env, startupinfo, creationflags, shell, p2cread, p2cwrite, c2pread, c2pwrite, errread, errwrite, unused_restore_signals, unused_start_new_session)\u001B[0m\n\u001B[0;32m   1310\u001B[0m \u001B[38;5;28;01mtry\u001B[39;00m:\n\u001B[1;32m-> 1311\u001B[0m     hp, ht, pid, tid \u001B[38;5;241m=\u001B[39m \u001B[43m_winapi\u001B[49m\u001B[38;5;241;43m.\u001B[39;49m\u001B[43mCreateProcess\u001B[49m\u001B[43m(\u001B[49m\u001B[43mexecutable\u001B[49m\u001B[43m,\u001B[49m\u001B[43m \u001B[49m\u001B[43margs\u001B[49m\u001B[43m,\u001B[49m\n\u001B[0;32m   1312\u001B[0m \u001B[43m                             \u001B[49m\u001B[38;5;66;43;03m# no special security\u001B[39;49;00m\n\u001B[0;32m   1313\u001B[0m \u001B[43m                             \u001B[49m\u001B[38;5;28;43;01mNone\u001B[39;49;00m\u001B[43m,\u001B[49m\u001B[43m \u001B[49m\u001B[38;5;28;43;01mNone\u001B[39;49;00m\u001B[43m,\u001B[49m\n\u001B[0;32m   1314\u001B[0m \u001B[43m                             \u001B[49m\u001B[38;5;28;43mint\u001B[39;49m\u001B[43m(\u001B[49m\u001B[38;5;129;43;01mnot\u001B[39;49;00m\u001B[43m \u001B[49m\u001B[43mclose_fds\u001B[49m\u001B[43m)\u001B[49m\u001B[43m,\u001B[49m\n\u001B[0;32m   1315\u001B[0m \u001B[43m                             \u001B[49m\u001B[43mcreationflags\u001B[49m\u001B[43m,\u001B[49m\n\u001B[0;32m   1316\u001B[0m \u001B[43m                             \u001B[49m\u001B[43menv\u001B[49m\u001B[43m,\u001B[49m\n\u001B[0;32m   1317\u001B[0m \u001B[43m                             \u001B[49m\u001B[43mcwd\u001B[49m\u001B[43m,\u001B[49m\n\u001B[0;32m   1318\u001B[0m \u001B[43m                             \u001B[49m\u001B[43mstartupinfo\u001B[49m\u001B[43m)\u001B[49m\n\u001B[0;32m   1319\u001B[0m \u001B[38;5;28;01mfinally\u001B[39;00m:\n\u001B[0;32m   1320\u001B[0m     \u001B[38;5;66;03m# Child is launched. Close the parent's copy of those pipe\u001B[39;00m\n\u001B[0;32m   1321\u001B[0m     \u001B[38;5;66;03m# handles that only the child should have open.  You need\u001B[39;00m\n\u001B[1;32m   (...)\u001B[0m\n\u001B[0;32m   1324\u001B[0m     \u001B[38;5;66;03m# pipe will not close when the child process exits and the\u001B[39;00m\n\u001B[0;32m   1325\u001B[0m     \u001B[38;5;66;03m# ReadFile will hang.\u001B[39;00m\n",
      "\u001B[1;31mFileNotFoundError\u001B[0m: [WinError 2] 系统找不到指定的文件。",
      "\nThe above exception was the direct cause of the following exception:\n",
      "\u001B[1;31mExecutableNotFound\u001B[0m                        Traceback (most recent call last)",
      "Cell \u001B[1;32mIn [61], line 2\u001B[0m\n\u001B[0;32m      1\u001B[0m xg_reg \u001B[38;5;241m=\u001B[39m train(params\u001B[38;5;241m=\u001B[39mparams, dtrain\u001B[38;5;241m=\u001B[39mdmat, num_boost_round\u001B[38;5;241m=\u001B[39m\u001B[38;5;241m100\u001B[39m)\n\u001B[1;32m----> 2\u001B[0m \u001B[43mplot_tree\u001B[49m\u001B[43m(\u001B[49m\u001B[43mxg_reg\u001B[49m\u001B[43m,\u001B[49m\u001B[43m \u001B[49m\u001B[43mnum_trees\u001B[49m\u001B[38;5;241;43m=\u001B[39;49m\u001B[38;5;241;43m0\u001B[39;49m\u001B[43m)\u001B[49m\n\u001B[0;32m      3\u001B[0m plt\u001B[38;5;241m.\u001B[39mrcParams[\u001B[38;5;124m'\u001B[39m\u001B[38;5;124mfigure.figsize\u001B[39m\u001B[38;5;124m'\u001B[39m] \u001B[38;5;241m=\u001B[39m [\u001B[38;5;241m50\u001B[39m, \u001B[38;5;241m10\u001B[39m]\n\u001B[0;32m      4\u001B[0m plt\u001B[38;5;241m.\u001B[39mshow()\n",
      "File \u001B[1;32mE:\\Anaconda3\\lib\\site-packages\\xgboost\\plotting.py:284\u001B[0m, in \u001B[0;36mplot_tree\u001B[1;34m(booster, fmap, num_trees, rankdir, ax, **kwargs)\u001B[0m\n\u001B[0;32m    280\u001B[0m g \u001B[38;5;241m=\u001B[39m to_graphviz(booster, fmap\u001B[38;5;241m=\u001B[39mfmap, num_trees\u001B[38;5;241m=\u001B[39mnum_trees, rankdir\u001B[38;5;241m=\u001B[39mrankdir,\n\u001B[0;32m    281\u001B[0m                 \u001B[38;5;241m*\u001B[39m\u001B[38;5;241m*\u001B[39mkwargs)\n\u001B[0;32m    283\u001B[0m s \u001B[38;5;241m=\u001B[39m BytesIO()\n\u001B[1;32m--> 284\u001B[0m s\u001B[38;5;241m.\u001B[39mwrite(\u001B[43mg\u001B[49m\u001B[38;5;241;43m.\u001B[39;49m\u001B[43mpipe\u001B[49m\u001B[43m(\u001B[49m\u001B[38;5;28;43mformat\u001B[39;49m\u001B[38;5;241;43m=\u001B[39;49m\u001B[38;5;124;43m'\u001B[39;49m\u001B[38;5;124;43mpng\u001B[39;49m\u001B[38;5;124;43m'\u001B[39;49m\u001B[43m)\u001B[49m)\n\u001B[0;32m    285\u001B[0m s\u001B[38;5;241m.\u001B[39mseek(\u001B[38;5;241m0\u001B[39m)\n\u001B[0;32m    286\u001B[0m img \u001B[38;5;241m=\u001B[39m image\u001B[38;5;241m.\u001B[39mimread(s)\n",
      "File \u001B[1;32mE:\\Anaconda3\\lib\\site-packages\\graphviz\\piping.py:104\u001B[0m, in \u001B[0;36mPipe.pipe\u001B[1;34m(self, format, renderer, formatter, neato_no_op, quiet, engine, encoding)\u001B[0m\n\u001B[0;32m     55\u001B[0m \u001B[38;5;28;01mdef\u001B[39;00m \u001B[38;5;21mpipe\u001B[39m(\u001B[38;5;28mself\u001B[39m,\n\u001B[0;32m     56\u001B[0m          \u001B[38;5;28mformat\u001B[39m: typing\u001B[38;5;241m.\u001B[39mOptional[\u001B[38;5;28mstr\u001B[39m] \u001B[38;5;241m=\u001B[39m \u001B[38;5;28;01mNone\u001B[39;00m,\n\u001B[0;32m     57\u001B[0m          renderer: typing\u001B[38;5;241m.\u001B[39mOptional[\u001B[38;5;28mstr\u001B[39m] \u001B[38;5;241m=\u001B[39m \u001B[38;5;28;01mNone\u001B[39;00m,\n\u001B[1;32m   (...)\u001B[0m\n\u001B[0;32m     61\u001B[0m          engine: typing\u001B[38;5;241m.\u001B[39mOptional[\u001B[38;5;28mstr\u001B[39m] \u001B[38;5;241m=\u001B[39m \u001B[38;5;28;01mNone\u001B[39;00m,\n\u001B[0;32m     62\u001B[0m          encoding: typing\u001B[38;5;241m.\u001B[39mOptional[\u001B[38;5;28mstr\u001B[39m] \u001B[38;5;241m=\u001B[39m \u001B[38;5;28;01mNone\u001B[39;00m) \u001B[38;5;241m-\u001B[39m\u001B[38;5;241m>\u001B[39m typing\u001B[38;5;241m.\u001B[39mUnion[\u001B[38;5;28mbytes\u001B[39m, \u001B[38;5;28mstr\u001B[39m]:\n\u001B[0;32m     63\u001B[0m     \u001B[38;5;124;03m\"\"\"Return the source piped through the Graphviz layout command.\u001B[39;00m\n\u001B[0;32m     64\u001B[0m \n\u001B[0;32m     65\u001B[0m \u001B[38;5;124;03m    Args:\u001B[39;00m\n\u001B[1;32m   (...)\u001B[0m\n\u001B[0;32m    102\u001B[0m \u001B[38;5;124;03m        '<?xml version='\u001B[39;00m\n\u001B[0;32m    103\u001B[0m \u001B[38;5;124;03m    \"\"\"\u001B[39;00m\n\u001B[1;32m--> 104\u001B[0m     \u001B[38;5;28;01mreturn\u001B[39;00m \u001B[38;5;28;43mself\u001B[39;49m\u001B[38;5;241;43m.\u001B[39;49m\u001B[43m_pipe_legacy\u001B[49m\u001B[43m(\u001B[49m\u001B[38;5;28;43mformat\u001B[39;49m\u001B[43m,\u001B[49m\n\u001B[0;32m    105\u001B[0m \u001B[43m                             \u001B[49m\u001B[43mrenderer\u001B[49m\u001B[38;5;241;43m=\u001B[39;49m\u001B[43mrenderer\u001B[49m\u001B[43m,\u001B[49m\n\u001B[0;32m    106\u001B[0m \u001B[43m                             \u001B[49m\u001B[43mformatter\u001B[49m\u001B[38;5;241;43m=\u001B[39;49m\u001B[43mformatter\u001B[49m\u001B[43m,\u001B[49m\n\u001B[0;32m    107\u001B[0m \u001B[43m                             \u001B[49m\u001B[43mneato_no_op\u001B[49m\u001B[38;5;241;43m=\u001B[39;49m\u001B[43mneato_no_op\u001B[49m\u001B[43m,\u001B[49m\n\u001B[0;32m    108\u001B[0m \u001B[43m                             \u001B[49m\u001B[43mquiet\u001B[49m\u001B[38;5;241;43m=\u001B[39;49m\u001B[43mquiet\u001B[49m\u001B[43m,\u001B[49m\n\u001B[0;32m    109\u001B[0m \u001B[43m                             \u001B[49m\u001B[43mengine\u001B[49m\u001B[38;5;241;43m=\u001B[39;49m\u001B[43mengine\u001B[49m\u001B[43m,\u001B[49m\n\u001B[0;32m    110\u001B[0m \u001B[43m                             \u001B[49m\u001B[43mencoding\u001B[49m\u001B[38;5;241;43m=\u001B[39;49m\u001B[43mencoding\u001B[49m\u001B[43m)\u001B[49m\n",
      "File \u001B[1;32mE:\\Anaconda3\\lib\\site-packages\\graphviz\\_tools.py:171\u001B[0m, in \u001B[0;36mdeprecate_positional_args.<locals>.decorator.<locals>.wrapper\u001B[1;34m(*args, **kwargs)\u001B[0m\n\u001B[0;32m    162\u001B[0m     wanted \u001B[38;5;241m=\u001B[39m \u001B[38;5;124m'\u001B[39m\u001B[38;5;124m, \u001B[39m\u001B[38;5;124m'\u001B[39m\u001B[38;5;241m.\u001B[39mjoin(\u001B[38;5;124mf\u001B[39m\u001B[38;5;124m'\u001B[39m\u001B[38;5;132;01m{\u001B[39;00mname\u001B[38;5;132;01m}\u001B[39;00m\u001B[38;5;124m=\u001B[39m\u001B[38;5;132;01m{\u001B[39;00mvalue\u001B[38;5;132;01m!r}\u001B[39;00m\u001B[38;5;124m'\u001B[39m\n\u001B[0;32m    163\u001B[0m                        \u001B[38;5;28;01mfor\u001B[39;00m name, value \u001B[38;5;129;01min\u001B[39;00m deprecated\u001B[38;5;241m.\u001B[39mitems())\n\u001B[0;32m    164\u001B[0m     warnings\u001B[38;5;241m.\u001B[39mwarn(\u001B[38;5;124mf\u001B[39m\u001B[38;5;124m'\u001B[39m\u001B[38;5;124mThe signature of \u001B[39m\u001B[38;5;132;01m{\u001B[39;00mfunc\u001B[38;5;241m.\u001B[39m\u001B[38;5;18m__name__\u001B[39m\u001B[38;5;132;01m}\u001B[39;00m\u001B[38;5;124m will be reduced\u001B[39m\u001B[38;5;124m'\u001B[39m\n\u001B[0;32m    165\u001B[0m                   \u001B[38;5;124mf\u001B[39m\u001B[38;5;124m'\u001B[39m\u001B[38;5;124m to \u001B[39m\u001B[38;5;132;01m{\u001B[39;00msupported_number\u001B[38;5;132;01m}\u001B[39;00m\u001B[38;5;124m positional args\u001B[39m\u001B[38;5;124m'\u001B[39m\n\u001B[0;32m    166\u001B[0m                   \u001B[38;5;124mf\u001B[39m\u001B[38;5;124m'\u001B[39m\u001B[38;5;124m \u001B[39m\u001B[38;5;132;01m{\u001B[39;00m\u001B[38;5;28mlist\u001B[39m(supported)\u001B[38;5;132;01m}\u001B[39;00m\u001B[38;5;124m: pass \u001B[39m\u001B[38;5;132;01m{\u001B[39;00mwanted\u001B[38;5;132;01m}\u001B[39;00m\u001B[38;5;124m'\u001B[39m\n\u001B[0;32m    167\u001B[0m                   \u001B[38;5;124m'\u001B[39m\u001B[38;5;124m as keyword arg(s)\u001B[39m\u001B[38;5;124m'\u001B[39m,\n\u001B[0;32m    168\u001B[0m                   stacklevel\u001B[38;5;241m=\u001B[39mstacklevel,\n\u001B[0;32m    169\u001B[0m                   category\u001B[38;5;241m=\u001B[39mcategory)\n\u001B[1;32m--> 171\u001B[0m \u001B[38;5;28;01mreturn\u001B[39;00m \u001B[43mfunc\u001B[49m\u001B[43m(\u001B[49m\u001B[38;5;241;43m*\u001B[39;49m\u001B[43margs\u001B[49m\u001B[43m,\u001B[49m\u001B[43m \u001B[49m\u001B[38;5;241;43m*\u001B[39;49m\u001B[38;5;241;43m*\u001B[39;49m\u001B[43mkwargs\u001B[49m\u001B[43m)\u001B[49m\n",
      "File \u001B[1;32mE:\\Anaconda3\\lib\\site-packages\\graphviz\\piping.py:121\u001B[0m, in \u001B[0;36mPipe._pipe_legacy\u001B[1;34m(self, format, renderer, formatter, neato_no_op, quiet, engine, encoding)\u001B[0m\n\u001B[0;32m    112\u001B[0m \u001B[38;5;129m@_tools\u001B[39m\u001B[38;5;241m.\u001B[39mdeprecate_positional_args(supported_number\u001B[38;5;241m=\u001B[39m\u001B[38;5;241m2\u001B[39m)\n\u001B[0;32m    113\u001B[0m \u001B[38;5;28;01mdef\u001B[39;00m \u001B[38;5;21m_pipe_legacy\u001B[39m(\u001B[38;5;28mself\u001B[39m,\n\u001B[0;32m    114\u001B[0m                  \u001B[38;5;28mformat\u001B[39m: typing\u001B[38;5;241m.\u001B[39mOptional[\u001B[38;5;28mstr\u001B[39m] \u001B[38;5;241m=\u001B[39m \u001B[38;5;28;01mNone\u001B[39;00m,\n\u001B[1;32m   (...)\u001B[0m\n\u001B[0;32m    119\u001B[0m                  engine: typing\u001B[38;5;241m.\u001B[39mOptional[\u001B[38;5;28mstr\u001B[39m] \u001B[38;5;241m=\u001B[39m \u001B[38;5;28;01mNone\u001B[39;00m,\n\u001B[0;32m    120\u001B[0m                  encoding: typing\u001B[38;5;241m.\u001B[39mOptional[\u001B[38;5;28mstr\u001B[39m] \u001B[38;5;241m=\u001B[39m \u001B[38;5;28;01mNone\u001B[39;00m) \u001B[38;5;241m-\u001B[39m\u001B[38;5;241m>\u001B[39m typing\u001B[38;5;241m.\u001B[39mUnion[\u001B[38;5;28mbytes\u001B[39m, \u001B[38;5;28mstr\u001B[39m]:\n\u001B[1;32m--> 121\u001B[0m     \u001B[38;5;28;01mreturn\u001B[39;00m \u001B[38;5;28;43mself\u001B[39;49m\u001B[38;5;241;43m.\u001B[39;49m\u001B[43m_pipe_future\u001B[49m\u001B[43m(\u001B[49m\u001B[38;5;28;43mformat\u001B[39;49m\u001B[43m,\u001B[49m\n\u001B[0;32m    122\u001B[0m \u001B[43m                             \u001B[49m\u001B[43mrenderer\u001B[49m\u001B[38;5;241;43m=\u001B[39;49m\u001B[43mrenderer\u001B[49m\u001B[43m,\u001B[49m\n\u001B[0;32m    123\u001B[0m \u001B[43m                             \u001B[49m\u001B[43mformatter\u001B[49m\u001B[38;5;241;43m=\u001B[39;49m\u001B[43mformatter\u001B[49m\u001B[43m,\u001B[49m\n\u001B[0;32m    124\u001B[0m \u001B[43m                             \u001B[49m\u001B[43mneato_no_op\u001B[49m\u001B[38;5;241;43m=\u001B[39;49m\u001B[43mneato_no_op\u001B[49m\u001B[43m,\u001B[49m\n\u001B[0;32m    125\u001B[0m \u001B[43m                             \u001B[49m\u001B[43mquiet\u001B[49m\u001B[38;5;241;43m=\u001B[39;49m\u001B[43mquiet\u001B[49m\u001B[43m,\u001B[49m\n\u001B[0;32m    126\u001B[0m \u001B[43m                             \u001B[49m\u001B[43mengine\u001B[49m\u001B[38;5;241;43m=\u001B[39;49m\u001B[43mengine\u001B[49m\u001B[43m,\u001B[49m\n\u001B[0;32m    127\u001B[0m \u001B[43m                             \u001B[49m\u001B[43mencoding\u001B[49m\u001B[38;5;241;43m=\u001B[39;49m\u001B[43mencoding\u001B[49m\u001B[43m)\u001B[49m\n",
      "File \u001B[1;32mE:\\Anaconda3\\lib\\site-packages\\graphviz\\piping.py:161\u001B[0m, in \u001B[0;36mPipe._pipe_future\u001B[1;34m(self, format, renderer, formatter, neato_no_op, quiet, engine, encoding)\u001B[0m\n\u001B[0;32m    159\u001B[0m     \u001B[38;5;28;01melse\u001B[39;00m:\n\u001B[0;32m    160\u001B[0m         \u001B[38;5;28;01mreturn\u001B[39;00m raw\u001B[38;5;241m.\u001B[39mdecode(encoding)\n\u001B[1;32m--> 161\u001B[0m \u001B[38;5;28;01mreturn\u001B[39;00m \u001B[38;5;28;43mself\u001B[39;49m\u001B[38;5;241;43m.\u001B[39;49m\u001B[43m_pipe_lines\u001B[49m\u001B[43m(\u001B[49m\u001B[38;5;241;43m*\u001B[39;49m\u001B[43margs\u001B[49m\u001B[43m,\u001B[49m\u001B[43m \u001B[49m\u001B[43minput_encoding\u001B[49m\u001B[38;5;241;43m=\u001B[39;49m\u001B[38;5;28;43mself\u001B[39;49m\u001B[38;5;241;43m.\u001B[39;49m\u001B[43mencoding\u001B[49m\u001B[43m,\u001B[49m\u001B[43m \u001B[49m\u001B[38;5;241;43m*\u001B[39;49m\u001B[38;5;241;43m*\u001B[39;49m\u001B[43mkwargs\u001B[49m\u001B[43m)\u001B[49m\n",
      "File \u001B[1;32mE:\\Anaconda3\\lib\\site-packages\\graphviz\\backend\\piping.py:161\u001B[0m, in \u001B[0;36mpipe_lines\u001B[1;34m(engine, format, input_lines, input_encoding, renderer, formatter, neato_no_op, quiet)\u001B[0m\n\u001B[0;32m    155\u001B[0m cmd \u001B[38;5;241m=\u001B[39m dot_command\u001B[38;5;241m.\u001B[39mcommand(engine, \u001B[38;5;28mformat\u001B[39m,\n\u001B[0;32m    156\u001B[0m                           renderer\u001B[38;5;241m=\u001B[39mrenderer,\n\u001B[0;32m    157\u001B[0m                           formatter\u001B[38;5;241m=\u001B[39mformatter,\n\u001B[0;32m    158\u001B[0m                           neato_no_op\u001B[38;5;241m=\u001B[39mneato_no_op)\n\u001B[0;32m    159\u001B[0m kwargs \u001B[38;5;241m=\u001B[39m {\u001B[38;5;124m'\u001B[39m\u001B[38;5;124minput_lines\u001B[39m\u001B[38;5;124m'\u001B[39m: (line\u001B[38;5;241m.\u001B[39mencode(input_encoding) \u001B[38;5;28;01mfor\u001B[39;00m line \u001B[38;5;129;01min\u001B[39;00m input_lines)}\n\u001B[1;32m--> 161\u001B[0m proc \u001B[38;5;241m=\u001B[39m \u001B[43mexecute\u001B[49m\u001B[38;5;241;43m.\u001B[39;49m\u001B[43mrun_check\u001B[49m\u001B[43m(\u001B[49m\u001B[43mcmd\u001B[49m\u001B[43m,\u001B[49m\u001B[43m \u001B[49m\u001B[43mcapture_output\u001B[49m\u001B[38;5;241;43m=\u001B[39;49m\u001B[38;5;28;43;01mTrue\u001B[39;49;00m\u001B[43m,\u001B[49m\u001B[43m \u001B[49m\u001B[43mquiet\u001B[49m\u001B[38;5;241;43m=\u001B[39;49m\u001B[43mquiet\u001B[49m\u001B[43m,\u001B[49m\u001B[43m \u001B[49m\u001B[38;5;241;43m*\u001B[39;49m\u001B[38;5;241;43m*\u001B[39;49m\u001B[43mkwargs\u001B[49m\u001B[43m)\u001B[49m\n\u001B[0;32m    162\u001B[0m \u001B[38;5;28;01mreturn\u001B[39;00m proc\u001B[38;5;241m.\u001B[39mstdout\n",
      "File \u001B[1;32mE:\\Anaconda3\\lib\\site-packages\\graphviz\\backend\\execute.py:84\u001B[0m, in \u001B[0;36mrun_check\u001B[1;34m(cmd, input_lines, encoding, quiet, **kwargs)\u001B[0m\n\u001B[0;32m     82\u001B[0m \u001B[38;5;28;01mexcept\u001B[39;00m \u001B[38;5;167;01mOSError\u001B[39;00m \u001B[38;5;28;01mas\u001B[39;00m e:\n\u001B[0;32m     83\u001B[0m     \u001B[38;5;28;01mif\u001B[39;00m e\u001B[38;5;241m.\u001B[39merrno \u001B[38;5;241m==\u001B[39m errno\u001B[38;5;241m.\u001B[39mENOENT:\n\u001B[1;32m---> 84\u001B[0m         \u001B[38;5;28;01mraise\u001B[39;00m ExecutableNotFound(cmd) \u001B[38;5;28;01mfrom\u001B[39;00m \u001B[38;5;21;01me\u001B[39;00m\n\u001B[0;32m     85\u001B[0m     \u001B[38;5;28;01mraise\u001B[39;00m\n\u001B[0;32m     87\u001B[0m \u001B[38;5;28;01mif\u001B[39;00m \u001B[38;5;129;01mnot\u001B[39;00m quiet \u001B[38;5;129;01mand\u001B[39;00m proc\u001B[38;5;241m.\u001B[39mstderr:\n",
      "\u001B[1;31mExecutableNotFound\u001B[0m: failed to execute WindowsPath('dot'), make sure the Graphviz executables are on your systems' PATH"
     ]
    },
    {
     "data": {
      "text/plain": "<Figure size 640x480 with 1 Axes>",
      "image/png": "[encoded data removed]"
     },
     "metadata": {},
     "output_type": "display_data"
    }
   ],
   "source": [
    "xg_reg = train(params=params, dtrain=dmat, num_boost_round=100)\n",
    "plot_tree(xg_reg, num_trees=0)\n",
    "plt.rcParams['figure.figsize'] = [50, 10]\n",
    "plt.show()"
   ],
   "metadata": {
    "collapsed": false
   }
  }
 ],
 "metadata": {
  "kernelspec": {
   "display_name": "Python 3",
   "language": "python",
   "name": "python3"
  },
  "language_info": {
   "codemirror_mode": {
    "name": "ipython",
    "version": 2
   },
   "file_extension": ".py",
   "mimetype": "text/x-python",
   "name": "python",
   "nbconvert_exporter": "python",
   "pygments_lexer": "ipython2",
   "version": "2.7.6"
  }
 },
 "nbformat": 4,
 "nbformat_minor": 0
}
